{
 "cells": [
  {
   "cell_type": "code",
   "execution_count": null,
   "metadata": {},
   "outputs": [],
   "source": [
    "# environment creation and basic rendering\n",
    "from base import RubiksCube\n",
    "import matplotlib.pyplot as plt\n",
    "\n",
    "cube = RubiksCube()\n",
    "cube.reset(to_solved=False)\n",
    "cube.render()\n",
    "plt.show()"
   ]
  },
  {
   "cell_type": "code",
   "execution_count": 3,
   "metadata": {},
   "outputs": [
    {
     "data": {
      "image/png": "[encoded data removed]",
      "text/plain": [
       "<Figure size 640x480 with 1 Axes>"
      ]
     },
     "metadata": {},
     "output_type": "display_data"
    },
    {
     "data": {
      "image/png": "[encoded data removed]",
      "text/plain": [
       "<Figure size 640x480 with 1 Axes>"
      ]
     },
     "metadata": {},
     "output_type": "display_data"
    },
    {
     "data": {
      "image/png": "[encoded data removed]",
      "text/plain": [
       "<Figure size 640x480 with 1 Axes>"
      ]
     },
     "metadata": {},
     "output_type": "display_data"
    }
   ],
   "source": [
    "# state-property and state-setter\n",
    "from base import RubiksCube\n",
    "import matplotlib.pyplot as plt\n",
    "\n",
    "cube = RubiksCube()\n",
    "cube.reset(to_solved=False)\n",
    "state = cube.state\n",
    "cube.render()\n",
    "plt.show()\n",
    "\n",
    "cube.reset(to_solved=True)\n",
    "cube.render()\n",
    "plt.show()\n",
    "\n",
    "cube.state = state\n",
    "cube.render()\n",
    "plt.show()\n"
   ]
  },
  {
   "cell_type": "code",
   "execution_count": 4,
   "metadata": {},
   "outputs": [
    {
     "name": "stdout",
     "output_type": "stream",
     "text": [
      "Solve the Rubiks-Cube. Press Escape-Key to quit.\n"
     ]
    },
    {
     "ename": "TypeError",
     "evalue": "ufunc 'divmod' not supported for the input types, and the inputs could not be safely coerced to any supported types according to the casting rule ''safe''",
     "output_type": "error",
     "traceback": [
      "\u001b[1;31m---------------------------------------------------------------------------\u001b[0m",
      "\u001b[1;31mTypeError\u001b[0m                                 Traceback (most recent call last)",
      "Cell \u001b[1;32mIn[4], line 4\u001b[0m\n\u001b[0;32m      1\u001b[0m \u001b[38;5;66;03m# human interaction (play-mode)\u001b[39;00m\n\u001b[0;32m      2\u001b[0m \u001b[38;5;28;01mfrom\u001b[39;00m \u001b[38;5;21;01mbase\u001b[39;00m \u001b[38;5;28;01mimport\u001b[39;00m RubiksCube\n\u001b[1;32m----> 4\u001b[0m \u001b[43mcube\u001b[49m\u001b[38;5;241;43m.\u001b[39;49m\u001b[43mplay\u001b[49m\u001b[43m(\u001b[49m\u001b[43m)\u001b[49m\n",
      "File \u001b[1;32mc:\\Users\\Tom\\OneDrive\\DATA\\Master\\Reinforcement Learning\\personal_projects\\Learning_Rubiks_Cube\\src\\environments\\rubiks_cube\\base.py:205\u001b[0m, in \u001b[0;36mRubiksCube.play\u001b[1;34m(self)\u001b[0m\n\u001b[0;32m    203\u001b[0m action_input \u001b[38;5;241m=\u001b[39m \u001b[38;5;28minput\u001b[39m(\u001b[38;5;124m'\u001b[39m\u001b[38;5;124mPlease take an action.\u001b[39m\u001b[38;5;124m'\u001b[39m)\n\u001b[0;32m    204\u001b[0m action \u001b[38;5;241m=\u001b[39m \u001b[38;5;28mtuple\u001b[39m(action_input\u001b[38;5;241m.\u001b[39msplit(\u001b[38;5;124m'\u001b[39m\u001b[38;5;124m \u001b[39m\u001b[38;5;124m'\u001b[39m))\n\u001b[1;32m--> 205\u001b[0m \u001b[38;5;28;43mself\u001b[39;49m\u001b[38;5;241;43m.\u001b[39;49m\u001b[43mstep\u001b[49m\u001b[43m(\u001b[49m\u001b[43maction\u001b[49m\u001b[43m)\u001b[49m\n\u001b[0;32m    206\u001b[0m \u001b[38;5;28mself\u001b[39m\u001b[38;5;241m.\u001b[39mrender()\n\u001b[0;32m    207\u001b[0m plt\u001b[38;5;241m.\u001b[39mclose()\n",
      "File \u001b[1;32mc:\\Users\\Tom\\OneDrive\\DATA\\Master\\Reinforcement Learning\\personal_projects\\Learning_Rubiks_Cube\\src\\environments\\rubiks_cube\\base.py:271\u001b[0m, in \u001b[0;36mRubiksCube.step\u001b[1;34m(self, action)\u001b[0m\n\u001b[0;32m    270\u001b[0m \u001b[38;5;28;01mdef\u001b[39;00m \u001b[38;5;21mstep\u001b[39m(\u001b[38;5;28mself\u001b[39m, action):\n\u001b[1;32m--> 271\u001b[0m     face_idx, rot_direction \u001b[38;5;241m=\u001b[39m \u001b[43mnp\u001b[49m\u001b[38;5;241;43m.\u001b[39;49m\u001b[43mdivmod\u001b[49m\u001b[43m(\u001b[49m\u001b[43maction\u001b[49m\u001b[43m,\u001b[49m\u001b[43m \u001b[49m\u001b[38;5;241;43m2\u001b[39;49m\u001b[43m)\u001b[49m\n\u001b[0;32m    272\u001b[0m     \u001b[38;5;28;01massert\u001b[39;00m face_idx \u001b[38;5;129;01min\u001b[39;00m np\u001b[38;5;241m.\u001b[39marange(\u001b[38;5;28mlen\u001b[39m(\u001b[38;5;28mself\u001b[39m\u001b[38;5;241m.\u001b[39mfaces))\n\u001b[0;32m    273\u001b[0m     \u001b[38;5;28;01massert\u001b[39;00m rot_direction \u001b[38;5;129;01min\u001b[39;00m [\u001b[38;5;241m0\u001b[39m,\u001b[38;5;241m1\u001b[39m]\n",
      "\u001b[1;31mTypeError\u001b[0m: ufunc 'divmod' not supported for the input types, and the inputs could not be safely coerced to any supported types according to the casting rule ''safe''"
     ]
    }
   ],
   "source": [
    "# human interaction (play-mode)\n",
    "from base import RubiksCube\n",
    "\n",
    "cube.play()\n"
   ]
  }
 ],
 "metadata": {
  "kernelspec": {
   "display_name": "TMP",
   "language": "python",
   "name": "python3"
  },
  "language_info": {
   "codemirror_mode": {
    "name": "ipython",
    "version": 3
   },
   "file_extension": ".py",
   "mimetype": "text/x-python",
   "name": "python",
   "nbconvert_exporter": "python",
   "pygments_lexer": "ipython3",
   "version": "3.9.15"
  }
 },
 "nbformat": 4,
 "nbformat_minor": 2
}
