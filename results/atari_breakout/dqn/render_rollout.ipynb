{
 "cells": [
  {
   "cell_type": "code",
   "execution_count": null,
   "metadata": {},
   "outputs": [],
   "source": [
    "import gymnasium as gym\n",
    "\n",
    "import os \n",
    "import sys\n",
    "\n",
    "from training import make_env\n",
    "sys.path.append(os.path.join(*3*[os.pardir]))\n",
    "from learning.callbacks import PerformanceEvaluationCallback, RenderEnvironmentCallback, SaveModelCallback\n",
    "from learning.agents import DQNAgent\n",
    "from learning.policies import EpsilonGreedyPolicy\n",
    "from learning.utils.common import get_atari_dqn_cnn\n",
    "from learning.utils.schedules import LinearSchedule\n",
    "from learning.utils.visualization.rollout_animation import RolloutAnimation\n"
   ]
  },
  {
   "cell_type": "code",
   "execution_count": 1,
   "metadata": {},
   "outputs": [
    {
     "ename": "NameError",
     "evalue": "name '__dir__' is not defined",
     "output_type": "error",
     "traceback": [
      "\u001b[1;31m---------------------------------------------------------------------------\u001b[0m",
      "\u001b[1;31mNameError\u001b[0m                                 Traceback (most recent call last)",
      "Cell \u001b[1;32mIn[1], line 1\u001b[0m\n\u001b[1;32m----> 1\u001b[0m \u001b[38;5;21;43m__dir__\u001b[39;49m\n",
      "\u001b[1;31mNameError\u001b[0m: name '__dir__' is not defined"
     ]
    }
   ],
   "source": [
    "__dir__"
   ]
  },
  {
   "cell_type": "code",
   "execution_count": null,
   "metadata": {},
   "outputs": [],
   "source": [
    "env = make_env('ALE/Breakout-v5', render_mode='rgb_array')()\n",
    "vector_env = gym.vector.AsyncVectorEnv([lambda : env])\n",
    "\n",
    "epsilon_shedule = LinearSchedule(initial_value=1, c=-0.9/1e6, bounds=(0.1, 1))\n",
    "policy = EpsilonGreedyPolicy(epsilon_shedule)\n",
    "\n",
    "q_network = get_atari_dqn_cnn(input_shape=vector_env.single_observation_space.shape,\n",
    "                                output_shape=vector_env.single_action_space.n)\n",
    "\n",
    "agent = DQNAgent(vector_env, policy, q_network)\n",
    "agent.online_network.load_weights(os.path.join('checkpoints', 'after_epoch_001_return=11.weights.h5'), by_name=True)\n",
    "\n",
    "animation = RolloutAnimation(env, agent)\n",
    "# animation.animate(filepath='tmp.gif')\n"
   ]
  }
 ],
 "metadata": {
  "kernelspec": {
   "display_name": "RL",
   "language": "python",
   "name": "python3"
  },
  "language_info": {
   "codemirror_mode": {
    "name": "ipython",
    "version": 3
   },
   "file_extension": ".py",
   "mimetype": "text/x-python",
   "name": "python",
   "nbconvert_exporter": "python",
   "pygments_lexer": "ipython3",
   "version": "3.9.15"
  }
 },
 "nbformat": 4,
 "nbformat_minor": 2
}
